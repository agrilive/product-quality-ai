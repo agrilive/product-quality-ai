{
 "cells": [
  {
   "cell_type": "code",
   "execution_count": null,
   "metadata": {},
   "outputs": [],
   "source": []
  },
  {
   "cell_type": "markdown",
   "metadata": {},
   "source": [
    "Setup on new ec2 instance (ubuntu)\n",
    "1. Install Git\n",
    "\"\"\"\n",
    "sudo apt update\n",
    "sudo apt install git\n",
    "\"\"\"\n",
    "\n",
    "2. Generate ssh key \n",
    "\"\"\"\n",
    "ssh-keygen -t rsa -C \"your-email@gmail.com\"\n",
    "\"\"\"\n",
    "\n",
    "3. Change to root user and access ssh public key\n",
    "\"\"\"\n",
    "sudo su\n",
    "cat ~/.ssh/id_rsa.pub\n",
    "\"\"\"\n",
    "\n",
    "4. Add public key to GitHub repo (repo > Settings > Deploy Keys > Add key)\n",
    "\n",
    "5. Create virtual environment\n",
    "\"\"\"\n",
    "sudo apt install python3.10-venv\n",
    "python3 -m venv venv\n",
    "\"\"\"\n",
    "\n",
    "6. Use Jupyter notebook in virtual environment\n",
    "\"\"\"\n",
    "source venv/bin/activate\n",
    "pip install ipykernel\n",
    "python -m ipykernel install --user\n",
    "\"\"\"\n",
    "\n",
    "7. Install PyTorch\n",
    "- https://pytorch.org/\n",
    "- CPU installation\n",
    "\"\"\"\n",
    "pip3 install torch torchvision torchaudio --extra-index-url https://download.pytorch.org/whl/cpu\n",
    "\"\"\"\n",
    "\n",
    "8. Install requirements.txt from YOLOv5 repo\n",
    "- https://github.com/ultralytics/yolov5/issues/36\n",
    "\"\"\"\n",
    "pip install -r https://raw.githubusercontent.com/ultralytics/yolov5/master/requirements.txt\n",
    "\"\"\"\n",
    "\n",
    "If error with importing cv2 library\n",
    "\"\"\"\n",
    "sudo apt-get update\n",
    "sudo apt-get install ffmpeg libsm6 libxext6  -y\n",
    "sudo apt-get install -y python3-opencv\n",
    "\"\"\"\n",
    "\n",
    "9. Copy images from local to ec2 instance\n",
    "\"\"\"\n",
    "scp -i ~/.ssh/dimuto-ai.pem -r /Users/weiching/GitHub/pineapple_carton_crown ubuntu@ec2-46-137-227-33.ap-southeast-1.compute.amazonaws.com:~/product-quality-ai/pineapple_carton_crown\n",
    "\"\"\""
   ]
  },
  {
   "cell_type": "code",
   "execution_count": 1,
   "metadata": {},
   "outputs": [
    {
     "name": "stderr",
     "output_type": "stream",
     "text": [
      "/home/ubuntu/product-quality-ai/venv/lib/python3.10/site-packages/tqdm/auto.py:22: TqdmWarning: IProgress not found. Please update jupyter and ipywidgets. See https://ipywidgets.readthedocs.io/en/stable/user_install.html\n",
      "  from .autonotebook import tqdm as notebook_tqdm\n"
     ]
    }
   ],
   "source": [
    "import torch\n",
    "\n",
    "# Model for inference\n",
    "# model = torch.hub.load('ultralytics/yolov5', 'yolov5s', pretrained=True)\n"
   ]
  },
  {
   "cell_type": "code",
   "execution_count": 2,
   "metadata": {},
   "outputs": [
    {
     "name": "stderr",
     "output_type": "stream",
     "text": [
      "[ WARN:0@0.068] global /io/opencv/modules/imgcodecs/src/loadsave.cpp (239) findDecoder imread_('../data/raw/pineapple_carton_crown/IMG_20190816_154429.jpg'): can't open/read file: check file path/integrity\n"
     ]
    }
   ],
   "source": [
    "import cv2\n",
    "img_path = \"../data/raw/pineapple_carton_crown/IMG_20190816_154429.jpg\"\n",
    "img1 = cv2.imread(img_path)\n",
    "imgs = [img1]"
   ]
  },
  {
   "cell_type": "code",
   "execution_count": 3,
   "metadata": {},
   "outputs": [
    {
     "name": "stderr",
     "output_type": "stream",
     "text": [
      "Using cache found in /home/ubuntu/.cache/torch/hub/ultralytics_yolov5_master\n",
      "YOLOv5 🚀 2022-7-28 Python-3.10.4 torch-1.12.0+cpu CPU\n",
      "\n"
     ]
    }
   ],
   "source": [
    "# Training\n",
    "model = torch.hub.load('ultralytics/yolov5', 'yolov5s', autoshape=False)  # load pretrained"
   ]
  },
  {
   "cell_type": "code",
   "execution_count": 30,
   "metadata": {},
   "outputs": [],
   "source": [
    "# # Split dataset into train, val and test set\n",
    "# import random\n",
    "# import os\n",
    "# import numpy as np\n",
    "\n",
    "# image_list = [x for x in os.listdir(\"../data/raw/pineapple_carton_crown/\") if x.endswith(\".jpg\")]\n",
    "# random.Random(0).shuffle(image_list)\n",
    "# training_split = 0.8\n",
    "# len_training = round(len(image_list)*training_split)\n",
    "# train_images = image_list[:len_training]\n",
    "# val_images = image_list[len_training:]\n",
    "\n",
    "\n",
    "# def create_training_dataset(images, type=\"train\"):\n",
    "#     dir = \"../data/raw/pineapple_carton_crown\"\n",
    "#     new_dir = os.path.join(dir, type)\n",
    "\n",
    "#     if not os.path.exists(new_dir):\n",
    "#         os.makedirs(new_dir)\n",
    "#     for i in images:\n",
    "#         os.rename(os.path.join(dir, i), os.path.join(new_dir, i))\n",
    "#         os.rename(os.path.join(dir, i.replace(\".jpg\",\".txt\")), os.path.join(new_dir, i.replace(\".jpg\",\".txt\")))\n",
    "\n",
    "# # create_training_dataset(train_images, type=\"train\")\n",
    "# # create_training_dataset(val_images, type=\"val\")"
   ]
  },
  {
   "cell_type": "code",
   "execution_count": 5,
   "metadata": {},
   "outputs": [],
   "source": [
    "import os\n",
    "os.chdir(\"../yolov5\")"
   ]
  },
  {
   "cell_type": "code",
   "execution_count": 10,
   "metadata": {},
   "outputs": [
    {
     "name": "stdout",
     "output_type": "stream",
     "text": [
      "\u001b[34m\u001b[1mtrain: \u001b[0mweights=, cfg=./models/custom_yolov5s.yaml, data=data.yaml, hyp=data/hyps/hyp.scratch-low.yaml, epochs=10, batch_size=16, imgsz=416, rect=False, resume=False, nosave=False, noval=False, noautoanchor=False, noplots=False, evolve=None, bucket=, cache=ram, image_weights=False, device=, multi_scale=False, single_cls=False, optimizer=SGD, sync_bn=False, workers=8, project=runs/train, name=yolov5s_results, exist_ok=False, quad=False, cos_lr=False, label_smoothing=0.0, patience=100, freeze=[0], save_period=-1, seed=0, local_rank=-1, entity=None, upload_dataset=False, bbox_interval=-1, artifact_alias=latest\n",
      "\u001b[34m\u001b[1mgithub: \u001b[0mup to date with https://github.com/ultralytics/yolov5 ✅\n",
      "Traceback (most recent call last):\n",
      "  File \"/home/ubuntu/product-quality-ai/yolov5/train.py\", line 642, in <module>\n",
      "    main(opt)\n",
      "  File \"/home/ubuntu/product-quality-ai/yolov5/train.py\", line 512, in main\n",
      "    check_file(opt.data), check_yaml(opt.cfg), check_yaml(opt.hyp), str(opt.weights), str(opt.project)  # checks\n",
      "  File \"/home/ubuntu/product-quality-ai/yolov5/utils/general.py\", line 449, in check_file\n",
      "    assert len(files), f'File not found: {file}'  # assert file was found\n",
      "AssertionError: File not found: data.yaml\n"
     ]
    }
   ],
   "source": [
    "!python yolov5/train.py --img 416 --batch 16 --epochs 10 --data ../datasets/data.yaml --cfg ./models/custom_yolov5s.yaml --weights '' --name yolov5s_results  --cache"
   ]
  },
  {
   "cell_type": "code",
   "execution_count": null,
   "metadata": {},
   "outputs": [],
   "source": [
    "# YOLOV6\n",
    "!python tools/train.py --batch 32 --conf configs/yolov6s.py --data data/data.yml --device cpu\n",
    "\n",
    "# YOLOV5\n",
    "!python train.py --batch 3 --epochs 30 --data data/data.yml --weights yolov5s.pt --device cpu"
   ]
  }
 ],
 "metadata": {
  "kernelspec": {
   "display_name": "Python 3.10.4 ('venv': venv)",
   "language": "python",
   "name": "python3"
  },
  "language_info": {
   "codemirror_mode": {
    "name": "ipython",
    "version": 3
   },
   "file_extension": ".py",
   "mimetype": "text/x-python",
   "name": "python",
   "nbconvert_exporter": "python",
   "pygments_lexer": "ipython3",
   "version": "3.10.4"
  },
  "orig_nbformat": 4,
  "vscode": {
   "interpreter": {
    "hash": "a99faa6697bebbfb2dadc24869e7ccacc683ae727a63ff708e488226fe68c107"
   }
  }
 },
 "nbformat": 4,
 "nbformat_minor": 2
}
